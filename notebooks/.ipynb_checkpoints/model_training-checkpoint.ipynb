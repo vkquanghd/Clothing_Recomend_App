{
 "cells": [
  {
   "cell_type": "markdown",
   "id": "585804b6",
   "metadata": {},
   "source": [
    "# Milestone II — Web-ready Model & Search Assets (Explained)\n",
    "\n",
    "**Goal.** Build production-ready assets for the Flask app:\n",
    "- Train multiple text classifiers on reviews.\n",
    "- Fuse them into a simple ensemble.\n",
    "- Export a single bundle the web app can load: `model/ensemble.pkl`.\n",
    "- Export a compact product catalog for search & previews: `data/site_items.json`.\n",
    "\n",
    "**Models (all Logistic Regression):**\n",
    "1. Count Vectors (bag-of-words) → LR  \n",
    "2. TF-IDF → LR  \n",
    "3. TF-IDF → TruncatedSVD (100 dims, “LSA”) → LR\n",
    "\n",
    "**Why these?** They are strong baselines, fast, stable, and need no heavy external models.  \n",
    "They also satisfy Milestone II’s “use a model trained in Milestone I; optionally fuse ≥2–3 models”.\n",
    "\n",
    "**Outputs (for the Flask app):**\n",
    "- `model/ensemble.pkl` — a single Python object with `predict`, `predict_proba`\n",
    "- `model/manifest.json` — small JSON for `/metrics` page\n",
    "- `data/site_items.json` — item previews + normalized text to support search (“dress” ≈ “dresses”)\n",
    "\n",
    "**Data expected:** `data/assignment3_II.csv` (Milestone II dataset with “Clothes Title”, “Clothes Description”).  \n",
    "If missing, the notebook will create a tiny synthetic CSV so you can test end-to-end."
   ]
  }
 ],
 "metadata": {
  "language_info": {
   "name": "python"
  }
 },
 "nbformat": 4,
 "nbformat_minor": 5
}
